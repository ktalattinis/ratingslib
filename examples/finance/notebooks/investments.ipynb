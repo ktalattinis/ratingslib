{
 "cells": [
  {
   "attachments": {},
   "cell_type": "markdown",
   "metadata": {},
   "source": [
    "# Investments Example"
   ]
  },
  {
   "attachments": {},
   "cell_type": "markdown",
   "metadata": {},
   "source": [
    "Packages to load"
   ]
  },
  {
   "cell_type": "code",
   "execution_count": 1,
   "metadata": {},
   "outputs": [],
   "source": [
    "from ratingslib.datasets.filenames import FILENAME_INVESTMENTS, dataset_path\n",
    "from ratingslib.ratings.aggregation import RankingAggregation, RatingAggregation\n",
    "from ratingslib.utils.enums import ratings\n",
    "from ratingslib.utils.methods import print_info\n",
    "import pandas as pd"
   ]
  },
  {
   "attachments": {},
   "cell_type": "markdown",
   "metadata": {},
   "source": [
    "Set precision to 4 digits"
   ]
  },
  {
   "cell_type": "code",
   "execution_count": 2,
   "metadata": {},
   "outputs": [],
   "source": [
    "pd.set_option('float_format', \"{:.4f}\".format)"
   ]
  },
  {
   "attachments": {},
   "cell_type": "markdown",
   "metadata": {},
   "source": [
    "Get filename path and set columns dict (item, ratings)"
   ]
  },
  {
   "cell_type": "code",
   "execution_count": 3,
   "metadata": {},
   "outputs": [],
   "source": [
    "filename = dataset_path(FILENAME_INVESTMENTS)\n",
    "columns_dict = {'item': 'investment',\n",
    "                'ratings': ['ROI', 'PP']}"
   ]
  },
  {
   "attachments": {},
   "cell_type": "markdown",
   "metadata": {},
   "source": [
    "RANKING AGGREGATION: 1. Average Rank 2. Borda count"
   ]
  },
  {
   "cell_type": "code",
   "execution_count": 4,
   "metadata": {},
   "outputs": [
    {
     "name": "stdout",
     "output_type": "stream",
     "text": [
      "\n",
      "\n",
      "=====AvgRank=====\n",
      "          Item  rating  ranking\n",
      "0  investment1  2.0000        1\n",
      "1  investment2  2.0000        1\n",
      "2  investment3  2.0000        1\n",
      "\n",
      "\n",
      "=====Borda=====\n",
      "          Item  rating  ranking\n",
      "0  investment1  2.0000        1\n",
      "1  investment2  2.0000        1\n",
      "2  investment3  2.0000        1\n"
     ]
    }
   ],
   "source": [
    "versions = [ratings.RANKINGAVG, ratings.RANKINGBORDA]\n",
    "for version in versions:\n",
    "    print_info(version)\n",
    "    ra = RankingAggregation(version)\n",
    "    ratings_df = ra.rate_from_file(\n",
    "        filename, pairwise=False,\n",
    "        reverse_attributes_cols=['PP'],\n",
    "        columns_dict=columns_dict)\n",
    "    print(ratings_df)"
   ]
  },
  {
   "attachments": {},
   "cell_type": "markdown",
   "metadata": {},
   "source": [
    "RATING AGGREGATION: 1. Markov 2. OffenseDefense 3. Perron"
   ]
  },
  {
   "cell_type": "code",
   "execution_count": 5,
   "metadata": {},
   "outputs": [
    {
     "name": "stdout",
     "output_type": "stream",
     "text": [
      "\n",
      "\n",
      "=====AggrMarkov=====\n",
      "          Item  rating  ranking\n",
      "0  investment1  0.4186        1\n",
      "1  investment2  0.2847        3\n",
      "2  investment3  0.2967        2\n",
      "\n",
      "\n",
      "=====AggrOD=====\n",
      "          Item  rating  ranking\n",
      "0  investment1  0.8571        2\n",
      "1  investment2  1.7097        1\n",
      "2  investment3  0.8167        3\n",
      "\n",
      "\n",
      "=====AggrPerron=====\n",
      "          Item  rating  ranking\n",
      "0  investment1  0.3660        1\n",
      "1  investment2  0.3237        2\n",
      "2  investment3  0.3103        3\n"
     ]
    }
   ],
   "source": [
    "versions = [ratings.AGGREGATIONMARKOV,\n",
    "            ratings.AGGREGATIONOD,\n",
    "            ratings.AGGREGATIONPERRON]\n",
    "\n",
    "for version in versions:\n",
    "    print_info(version)\n",
    "    ra = RatingAggregation(version)\n",
    "    ratings_df = ra.rate_from_file(\n",
    "        filename, pairwise=False,\n",
    "        reverse_attributes_cols=['PP'],\n",
    "        columns_dict=columns_dict)\n",
    "    print(ratings_df)"
   ]
  }
 ],
 "metadata": {
  "kernelspec": {
   "display_name": "Python 3.8.13 ('py38')",
   "language": "python",
   "name": "python3"
  },
  "language_info": {
   "codemirror_mode": {
    "name": "ipython",
    "version": 3
   },
   "file_extension": ".py",
   "mimetype": "text/x-python",
   "name": "python",
   "nbconvert_exporter": "python",
   "pygments_lexer": "ipython3",
   "version": "3.8.13"
  },
  "vscode": {
   "interpreter": {
    "hash": "23ceb7112fbf9d0e38ecbf60d6e6d5e2dcebcc82200eeb1e5a5d5f9ffb9e27ca"
   }
  }
 },
 "nbformat": 4,
 "nbformat_minor": 2
}
